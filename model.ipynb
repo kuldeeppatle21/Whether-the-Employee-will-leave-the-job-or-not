{
 "cells": [
  {
   "cell_type": "code",
   "execution_count": 1,
   "metadata": {},
   "outputs": [],
   "source": [
    "import pandas as pd\n",
    "import numpy as np\n",
    "import seaborn as sns\n",
    "import matplotlib.pyplot as plt\n",
    "from sklearn.model_selection import (cross_val_score, GridSearchCV, RandomizedSearchCV, learning_curve, validation_curve, train_test_split)\n",
    "from sklearn.linear_model import LogisticRegression\n",
    "from sklearn.neighbors import KNeighborsClassifier\n",
    "from sklearn.ensemble import RandomForestClassifier, GradientBoostingClassifier\n",
    "from sklearn.svm import SVC\n",
    "sns.set_style('darkgrid')"
   ]
  },
  {
   "cell_type": "code",
   "execution_count": 2,
   "metadata": {},
   "outputs": [
    {
     "data": {
      "text/plain": [
       "(14999, 19)"
      ]
     },
     "execution_count": 2,
     "metadata": {},
     "output_type": "execute_result"
    }
   ],
   "source": [
    "data =  pd.read_csv('finaldata.csv')\n",
    "data.shape"
   ]
  },
  {
   "cell_type": "code",
   "execution_count": 4,
   "metadata": {
    "scrolled": false
   },
   "outputs": [
    {
     "name": "stdout",
     "output_type": "stream",
     "text": [
      "[[0.38 0.53 2.   ... 1.   0.   0.  ]\n",
      " [0.8  0.86 5.   ... 1.   0.   0.  ]\n",
      " [0.11 0.88 7.   ... 1.   0.   0.  ]\n",
      " ...\n",
      " [0.37 0.53 2.   ... 0.   1.   0.  ]\n",
      " [0.11 0.96 6.   ... 0.   1.   0.  ]\n",
      " [0.37 0.52 2.   ... 0.   1.   0.  ]]\n",
      "[1 1 1 ... 1 1 1]\n"
     ]
    }
   ],
   "source": [
    "x = data.loc[:, data.columns != \"left\"].values\n",
    "y = data.loc[:, data.columns == \"left\"].values.flatten()\n",
    "print(x)\n",
    "print(y)"
   ]
  },
  {
   "cell_type": "code",
   "execution_count": 4,
   "metadata": {},
   "outputs": [],
   "source": [
    "from sklearn.model_selection import train_test_split\n",
    "x_train, x_test, y_train, y_test = train_test_split(x, y, test_size=0.2, stratify=y, random_state=1)"
   ]
  },
  {
   "cell_type": "code",
   "execution_count": 5,
   "metadata": {},
   "outputs": [
    {
     "name": "stdout",
     "output_type": "stream",
     "text": [
      "Upsampled shape: (18284, 18) (18284,)\n"
     ]
    }
   ],
   "source": [
    "# Upsample minority class\n",
    "from sklearn.utils import resample\n",
    "x_train_u, y_train_u = resample(x_train[y_train == 1],\n",
    "                                y_train[y_train == 1],\n",
    "                                replace=True,\n",
    "                                n_samples=x_train[y_train == 0].shape[0],\n",
    "                                random_state=1)\n",
    "x_train_u = np.concatenate((x_train[y_train == 0], x_train_u))\n",
    "y_train_u = np.concatenate((y_train[y_train == 0], y_train_u))\n",
    "print(\"Upsampled shape:\", x_train_u.shape, y_train_u.shape)"
   ]
  },
  {
   "cell_type": "code",
   "execution_count": 6,
   "metadata": {},
   "outputs": [],
   "source": [
    "x_train_u\n",
    "df = pd.DataFrame(y_train_u, columns=['target'])"
   ]
  },
  {
   "cell_type": "code",
   "execution_count": 7,
   "metadata": {
    "scrolled": true
   },
   "outputs": [
    {
     "data": {
      "image/png": "[encoded data removed]",
      "text/plain": [
       "<Figure size 432x288 with 1 Axes>"
      ]
     },
     "metadata": {
      "needs_background": "light"
     },
     "output_type": "display_data"
    }
   ],
   "source": [
    "ax = sns.countplot('target', data = df)\n",
    "for p in ax.patches:\n",
    "        ax.annotate('{:}'.format(p.get_height()), (p.get_x()+0.3, p.get_height()+50))"
   ]
  },
  {
   "cell_type": "code",
   "execution_count": 8,
   "metadata": {},
   "outputs": [],
   "source": [
    "# Downsample majority class\n",
    "x_train_d, y_train_d = resample(x_train[y_train == 0],\n",
    "                                y_train[y_train == 0],\n",
    "                                replace=True,\n",
    "                                n_samples=x_train[y_train == 1].shape[0],\n",
    "                                random_state=1)\n",
    "x_train_d = np.concatenate((x_train[y_train == 1], x_train_d))\n",
    "y_train_d = np.concatenate((y_train[y_train == 1], y_train_d))\n"
   ]
  },
  {
   "cell_type": "code",
   "execution_count": 9,
   "metadata": {},
   "outputs": [
    {
     "name": "stdout",
     "output_type": "stream",
     "text": [
      "Downsampled shape: (5714, 18) (5714,)\n"
     ]
    }
   ],
   "source": [
    "print(\"Downsampled shape:\", x_train_d.shape, y_train_d.shape)"
   ]
  },
  {
   "cell_type": "code",
   "execution_count": 10,
   "metadata": {},
   "outputs": [],
   "source": [
    "x_train_d\n",
    "df = pd.DataFrame(y_train_d, columns=['target'])"
   ]
  },
  {
   "cell_type": "code",
   "execution_count": 11,
   "metadata": {},
   "outputs": [
    {
     "data": {
      "image/png": "[encoded data removed]",
      "text/plain": [
       "<Figure size 432x288 with 1 Axes>"
      ]
     },
     "metadata": {
      "needs_background": "light"
     },
     "output_type": "display_data"
    }
   ],
   "source": [
    "ax = sns.countplot('target', data = df)\n",
    "for p in ax.patches:\n",
    "        ax.annotate('{:}'.format(p.get_height()), (p.get_x()+0.3, p.get_height()+50))"
   ]
  },
  {
   "cell_type": "code",
   "execution_count": 12,
   "metadata": {},
   "outputs": [
    {
     "name": "stdout",
     "output_type": "stream",
     "text": [
      "Original shape: (11999, 18) (11999,)\n"
     ]
    }
   ],
   "source": [
    "print(\"Original shape:\", x_train.shape, y_train.shape)"
   ]
  },
  {
   "cell_type": "code",
   "execution_count": 13,
   "metadata": {},
   "outputs": [
    {
     "data": {
      "image/png": "[encoded data removed]",
      "text/plain": [
       "<Figure size 864x432 with 1 Axes>"
      ]
     },
     "metadata": {
      "needs_background": "light"
     },
     "output_type": "display_data"
    }
   ],
   "source": [
    "# Build PCA using standarized trained data\n",
    "# %matplotlib notebook\n",
    "from sklearn.preprocessing import StandardScaler\n",
    "from sklearn.decomposition import PCA\n",
    "pca = PCA(n_components=None, svd_solver=\"full\")\n",
    "pca.fit(StandardScaler().fit_transform(x_train))\n",
    "cum_var_exp = np.cumsum(pca.explained_variance_ratio_)\n",
    "plt.figure(figsize=(12, 6))\n",
    "plt.bar(range(1, 19), pca.explained_variance_ratio_, align=\"center\",\n",
    "        color='red', label=\"Individual explained variance\")\n",
    "plt.step(range(1, 19), cum_var_exp, where=\"mid\", label=\"Cumulative explained variance\")\n",
    "plt.xticks(range(1, 19))\n",
    "plt.legend(loc=\"best\")\n",
    "plt.xlabel(\"Principal component index\", {\"fontsize\": 14})\n",
    "plt.ylabel(\"Explained variance ratio\", {\"fontsize\": 14})\n",
    "plt.title(\"PCA on training data\", {\"fontsize\": 16});"
   ]
  },
  {
   "cell_type": "code",
   "execution_count": 14,
   "metadata": {},
   "outputs": [
    {
     "data": {
      "text/plain": [
       "array([0.10182713, 0.17736002, 0.2507649 , 0.31766474, 0.38183557,\n",
       "       0.44360334, 0.50348558, 0.56283436, 0.62176125, 0.68030775,\n",
       "       0.73844677, 0.79245839, 0.84181629, 0.88899063, 0.93472731,\n",
       "       0.96966358, 1.        , 1.        ])"
      ]
     },
     "execution_count": 14,
     "metadata": {},
     "output_type": "execute_result"
    }
   ],
   "source": [
    "cum_var_exp"
   ]
  },
  {
   "cell_type": "code",
   "execution_count": 15,
   "metadata": {},
   "outputs": [
    {
     "name": "stdout",
     "output_type": "stream",
     "text": [
      "\u001b[1m\u001b[0mThe best hyperparameters for Original data:\n",
      "criterion :  gini\n",
      "max_features :  0.5\n",
      "min_samples_leaf :  1\n",
      "n_estimators :  500\n",
      "\u001b[1m\u001b[94mBest 10-folds CV f1-score: 98.21%.\n",
      "\u001b[1m\u001b[0mThe best hyperparameters for Upsampled data:\n",
      "criterion :  gini\n",
      "max_features :  0.4\n",
      "min_samples_leaf :  1\n",
      "n_estimators :  100\n",
      "\u001b[1m\u001b[94mBest 10-folds CV f1-score: 99.80%.\n",
      "\u001b[1m\u001b[0mThe best hyperparameters for Downsampled data:\n",
      "criterion :  gini\n",
      "max_features :  0.5\n",
      "min_samples_leaf :  1\n",
      "n_estimators :  500\n",
      "\u001b[1m\u001b[94mBest 10-folds CV f1-score: 98.41%.\n"
     ]
    }
   ],
   "source": [
    "# Build random forest classifier\n",
    "from sklearn.pipeline import make_pipeline\n",
    "from sklearn.ensemble import RandomForestClassifier, GradientBoostingClassifier\n",
    "methods_data = {\"Original\": (x_train, y_train),\n",
    "                \"Upsampled\": (x_train_u, y_train_u),\n",
    "                \"Downsampled\": (x_train_d, y_train_d)}\n",
    "\n",
    "for method in methods_data.keys():\n",
    "    pip_rf = make_pipeline(StandardScaler(),\n",
    "                           RandomForestClassifier(n_estimators=500,\n",
    "                                                  class_weight=\"balanced\",\n",
    "                                                  random_state=123))\n",
    "    \n",
    "    hyperparam_grid = {\n",
    "        \"randomforestclassifier__n_estimators\": [10, 50, 100, 500],\n",
    "        \"randomforestclassifier__max_features\": [\"sqrt\", \"log2\", 0.4, 0.5],\n",
    "        \"randomforestclassifier__min_samples_leaf\": [1, 3, 5],\n",
    "        \"randomforestclassifier__criterion\": [\"gini\", \"entropy\"]}\n",
    "    \n",
    "    gs_rf = GridSearchCV(pip_rf,\n",
    "                         hyperparam_grid,\n",
    "                         scoring=\"f1\",\n",
    "                         cv=10,\n",
    "                         n_jobs=-1)\n",
    "    \n",
    "    gs_rf.fit(methods_data[method][0], methods_data[method][1])\n",
    "    \n",
    "    print(\"\\033[1m\" + \"\\033[0m\" + \"The best hyperparameters for {} data:\".format(method))\n",
    "    for hyperparam in gs_rf.best_params_.keys():\n",
    "        print(hyperparam[hyperparam.find(\"__\") + 2:], \": \", gs_rf.best_params_[hyperparam])\n",
    "        \n",
    "    print(\"\\033[1m\" + \"\\033[94m\" + \"Best 10-folds CV f1-score: {:.2f}%.\".format((gs_rf.best_score_) * 100))"
   ]
  },
  {
   "cell_type": "code",
   "execution_count": 16,
   "metadata": {},
   "outputs": [
    {
     "data": {
      "text/plain": [
       "Pipeline(memory=None,\n",
       "     steps=[('standardscaler', StandardScaler(copy=True, with_mean=True, with_std=True)), ('randomforestclassifier', RandomForestClassifier(bootstrap=True, class_weight='balanced',\n",
       "            criterion='gini', max_depth=None, max_features=0.5,\n",
       "            max_leaf_nodes=None, min_impurity_decrease=0.0,\n",
       "...imators=50, n_jobs=-1, oob_score=False, random_state=123,\n",
       "            verbose=0, warm_start=False))])"
      ]
     },
     "execution_count": 16,
     "metadata": {},
     "output_type": "execute_result"
    }
   ],
   "source": [
    "# Reassign original training data to upsampled data\n",
    "from sklearn.metrics import (accuracy_score, f1_score, precision_score, recall_score, roc_auc_score,\n",
    "                             roc_curve, confusion_matrix)\n",
    "x_train, y_train = np.copy(x_train_u), np.copy(y_train_u)\n",
    "\n",
    "# Delete original and downsampled data\n",
    "del x_train_u, y_train_u, x_train_d, y_train_d\n",
    "\n",
    "# Refit RF classifier using best params\n",
    "clf_rf = make_pipeline(StandardScaler(),\n",
    "                       RandomForestClassifier(n_estimators=50,\n",
    "                                              criterion=\"gini\",\n",
    "                                              max_features=0.5,\n",
    "                                              min_samples_leaf=1,\n",
    "                                              class_weight=\"balanced\",\n",
    "                                              n_jobs=-1,\n",
    "                                              random_state=123))\n",
    "\n",
    "\n",
    "clf_rf.fit(x_train, y_train)\n",
    "\n",
    "# Plot confusion matrix and ROC curve"
   ]
  },
  {
   "cell_type": "code",
   "execution_count": 17,
   "metadata": {},
   "outputs": [
    {
     "data": {
      "text/plain": [
       "<matplotlib.axes._subplots.AxesSubplot at 0x7f6e583c0978>"
      ]
     },
     "execution_count": 17,
     "metadata": {},
     "output_type": "execute_result"
    },
    {
     "data": {
      "image/png": "[encoded data removed]",
      "text/plain": [
       "<Figure size 432x288 with 2 Axes>"
      ]
     },
     "metadata": {
      "needs_background": "light"
     },
     "output_type": "display_data"
    }
   ],
   "source": [
    "prediction = clf_rf.predict(x_test)\n",
    "cm = confusion_matrix(y_test, prediction)\n",
    "sns.heatmap(cm, annot=True,fmt='g')"
   ]
  },
  {
   "cell_type": "code",
   "execution_count": 18,
   "metadata": {},
   "outputs": [
    {
     "name": "stdout",
     "output_type": "stream",
     "text": [
      "Accuracy_Socre:  0.9923333333333333\n",
      "F1 Score:  0.983722576079264\n",
      "Precision_Socre 0.994277539341917\n",
      "Recall_Score 0.9733893557422969\n"
     ]
    }
   ],
   "source": [
    "print('Accuracy_Socre: ',accuracy_score(y_test, prediction))\n",
    "print('F1 Score: ',f1_score(y_test, prediction))\n",
    "print('Precision_Socre',precision_score(y_test, prediction))\n",
    "print('Recall_Score',recall_score(y_test, prediction))"
   ]
  },
  {
   "cell_type": "code",
   "execution_count": 19,
   "metadata": {},
   "outputs": [
    {
     "name": "stdout",
     "output_type": "stream",
     "text": [
      "0.9858197872324782\n"
     ]
    },
    {
     "data": {
      "image/png": "[encoded data removed]",
      "text/plain": [
       "<Figure size 432x288 with 1 Axes>"
      ]
     },
     "metadata": {
      "needs_background": "light"
     },
     "output_type": "display_data"
    }
   ],
   "source": [
    "import matplotlib.pyplot as plt\n",
    "from sklearn.metrics import roc_curve, auc\n",
    "fpr = dict()\n",
    "tpr = dict()\n",
    "roc_auc = dict()\n",
    "for i in range(2):\n",
    "    fpr[i], tpr[i], _ = roc_curve(y_test, prediction)\n",
    "    roc_auc[i] = auc(fpr[i], tpr[i])\n",
    "\n",
    "print (roc_auc_score(y_test, prediction))\n",
    "plt.figure()\n",
    "plt.plot(fpr[1], tpr[1])\n",
    "plt.xlim([0.0, 1.0])\n",
    "plt.ylim([0.0, 1.05])\n",
    "plt.xlabel('False Positive Rate')\n",
    "plt.ylabel('True Positive Rate')\n",
    "plt.title('Receiver operating characteristic')\n",
    "plt.show()"
   ]
  },
  {
   "cell_type": "code",
   "execution_count": 20,
   "metadata": {},
   "outputs": [
    {
     "name": "stdout",
     "output_type": "stream",
     "text": [
      "\u001b[1m\u001b[0mThe best hyperparameters:\n",
      "-------------------------\n",
      "learning_rate :  0.1\n",
      "max_depth :  3\n",
      "max_features :  0.5\n",
      "n_estimators :  500\n",
      "\u001b[1m\u001b[94mBest 10-folds CV f1-score: 97.94%.\n"
     ]
    }
   ],
   "source": [
    "# Build Gradient Boosting classifier\n",
    "pip_gb = make_pipeline(StandardScaler(),\n",
    "                       GradientBoostingClassifier(loss=\"deviance\",\n",
    "                                                  random_state=123))\n",
    "\n",
    "hyperparam_grid = {\"gradientboostingclassifier__max_features\": [\"log2\", 0.5],\n",
    "                   \"gradientboostingclassifier__n_estimators\": [100, 300, 500],\n",
    "                   \"gradientboostingclassifier__learning_rate\": [0.001, 0.01, 0.1],\n",
    "                   \"gradientboostingclassifier__max_depth\": [1, 2, 3]}\n",
    "\n",
    "clf = GridSearchCV(pip_gb,\n",
    "                      param_grid=hyperparam_grid,\n",
    "                      scoring=\"f1\",\n",
    "                      cv=10,\n",
    "                      n_jobs=-1)\n",
    "\n",
    "clf.fit(x_train, y_train)\n",
    "\n",
    "print(\"\\033[1m\" + \"\\033[0m\" + \"The best hyperparameters:\")\n",
    "print(\"-\" * 25)\n",
    "for hyperparam in clf.best_params_.keys():\n",
    "    print(hyperparam[hyperparam.find(\"__\") + 2:], \": \", clf.best_params_[hyperparam])\n",
    "\n",
    "print(\"\\033[1m\" + \"\\033[94m\" + \"Best 10-folds CV f1-score: {:.2f}%.\".format((clf.best_score_) * 100))\n",
    "\n"
   ]
  },
  {
   "cell_type": "code",
   "execution_count": 21,
   "metadata": {},
   "outputs": [
    {
     "data": {
      "text/plain": [
       "<matplotlib.axes._subplots.AxesSubplot at 0x7f6e580baa58>"
      ]
     },
     "execution_count": 21,
     "metadata": {},
     "output_type": "execute_result"
    },
    {
     "data": {
      "image/png": "[encoded data removed]",
      "text/plain": [
       "<Figure size 432x288 with 2 Axes>"
      ]
     },
     "metadata": {
      "needs_background": "light"
     },
     "output_type": "display_data"
    }
   ],
   "source": [
    "prediction = clf.predict(x_test)\n",
    "cm = confusion_matrix(y_test, prediction)\n",
    "sns.heatmap(cm, annot=True,fmt='g')"
   ]
  },
  {
   "cell_type": "code",
   "execution_count": 22,
   "metadata": {},
   "outputs": [
    {
     "name": "stdout",
     "output_type": "stream",
     "text": [
      "Accuracy_Socre:  0.9803333333333333\n",
      "F1 Score:  0.9587123862841148\n",
      "Precision_Socre 0.958041958041958\n",
      "Recall_Score 0.9593837535014006\n"
     ]
    }
   ],
   "source": [
    "print('Accuracy_Socre: ',accuracy_score(y_test, prediction))\n",
    "print('F1 Score: ',f1_score(y_test, prediction))\n",
    "print('Precision_Socre',precision_score(y_test, prediction))\n",
    "print('Recall_Score',recall_score(y_test, prediction))"
   ]
  },
  {
   "cell_type": "code",
   "execution_count": 23,
   "metadata": {},
   "outputs": [
    {
     "name": "stdout",
     "output_type": "stream",
     "text": [
      "0.973130196960674\n"
     ]
    },
    {
     "data": {
      "image/png": "[encoded data removed]",
      "text/plain": [
       "<Figure size 432x288 with 1 Axes>"
      ]
     },
     "metadata": {
      "needs_background": "light"
     },
     "output_type": "display_data"
    }
   ],
   "source": [
    "import matplotlib.pyplot as plt\n",
    "from sklearn.metrics import roc_curve, auc\n",
    "fpr = dict()\n",
    "tpr = dict()\n",
    "roc_auc = dict()\n",
    "for i in range(2):\n",
    "    fpr[i], tpr[i], _ = roc_curve(y_test, prediction)\n",
    "    roc_auc[i] = auc(fpr[i], tpr[i])\n",
    "\n",
    "print (roc_auc_score(y_test, prediction))\n",
    "plt.figure()\n",
    "plt.plot(fpr[1], tpr[1])\n",
    "plt.xlim([0.0, 1.0])\n",
    "plt.ylim([0.0, 1.05])\n",
    "plt.xlabel('False Positive Rate')\n",
    "plt.ylabel('True Positive Rate')\n",
    "plt.title('Receiver operating characteristic')\n",
    "plt.show()"
   ]
  },
  {
   "cell_type": "code",
   "execution_count": 26,
   "metadata": {},
   "outputs": [
    {
     "name": "stdout",
     "output_type": "stream",
     "text": [
      "\u001b[1m\u001b[0mThe best hyperparameters:\n",
      "-------------------------\n",
      "n_neighbors :  1\n",
      "weights :  uniform\n",
      "\u001b[1m\u001b[94mBest 10-folds CV f1-score: 98.24%.\n"
     ]
    }
   ],
   "source": [
    "# Build KNN classifier\n",
    "pip_knn = make_pipeline(StandardScaler(), KNeighborsClassifier())\n",
    "hyperparam_range = range(1, 20)\n",
    "\n",
    "clf = GridSearchCV(pip_knn,\n",
    "                      param_grid={\"kneighborsclassifier__n_neighbors\": hyperparam_range,\n",
    "                                  \"kneighborsclassifier__weights\": [\"uniform\", \"distance\"]},\n",
    "                      scoring=\"f1\",\n",
    "                      cv=10,\n",
    "                      n_jobs=-1)\n",
    "\n",
    "clf.fit(x_train, y_train)\n",
    "\n",
    "\n",
    "print(\"\\033[1m\" + \"\\033[0m\" + \"The best hyperparameters:\")\n",
    "print(\"-\" * 25)\n",
    "for hyperparam in clf.best_params_.keys():\n",
    "    print(hyperparam[hyperparam.find(\"__\") + 2:], \": \", clf.best_params_[hyperparam])\n",
    "\n",
    "print(\"\\033[1m\" + \"\\033[94m\" + \"Best 10-folds CV f1-score: {:.2f}%.\".format((clf.best_score_) * 100))"
   ]
  },
  {
   "cell_type": "code",
   "execution_count": 27,
   "metadata": {},
   "outputs": [
    {
     "data": {
      "text/plain": [
       "<matplotlib.axes._subplots.AxesSubplot at 0x7f6e51c39f60>"
      ]
     },
     "execution_count": 27,
     "metadata": {},
     "output_type": "execute_result"
    },
    {
     "data": {
      "image/png": "[encoded data removed]",
      "text/plain": [
       "<Figure size 432x288 with 2 Axes>"
      ]
     },
     "metadata": {},
     "output_type": "display_data"
    }
   ],
   "source": [
    "prediction = clf.predict(x_test)\n",
    "cm = confusion_matrix(y_test, prediction)\n",
    "sns.heatmap(cm, annot=True,fmt='g')"
   ]
  },
  {
   "cell_type": "code",
   "execution_count": 28,
   "metadata": {},
   "outputs": [
    {
     "name": "stdout",
     "output_type": "stream",
     "text": [
      "Accuracy_Socre:  0.9723333333333334\n",
      "F1 Score:  0.943344709897611\n",
      "Precision_Socre 0.9201065246338216\n",
      "Recall_Score 0.9677871148459384\n"
     ]
    }
   ],
   "source": [
    "print('Accuracy_Socre: ',accuracy_score(y_test, prediction))\n",
    "print('F1 Score: ',f1_score(y_test, prediction))\n",
    "print('Precision_Socre',precision_score(y_test, prediction))\n",
    "print('Recall_Score',recall_score(y_test, prediction))"
   ]
  },
  {
   "cell_type": "code",
   "execution_count": 29,
   "metadata": {},
   "outputs": [
    {
     "name": "stdout",
     "output_type": "stream",
     "text": [
      "0.9707701978429167\n"
     ]
    },
    {
     "data": {
      "image/png": "[encoded data removed]",
      "text/plain": [
       "<Figure size 432x288 with 1 Axes>"
      ]
     },
     "metadata": {},
     "output_type": "display_data"
    }
   ],
   "source": [
    "import matplotlib.pyplot as plt\n",
    "from sklearn.metrics import roc_curve, auc\n",
    "fpr = dict()\n",
    "tpr = dict()\n",
    "roc_auc = dict()\n",
    "for i in range(2):\n",
    "    fpr[i], tpr[i], _ = roc_curve(y_test, prediction)\n",
    "    roc_auc[i] = auc(fpr[i], tpr[i])\n",
    "\n",
    "print (roc_auc_score(y_test, prediction))\n",
    "plt.figure()\n",
    "plt.plot(fpr[1], tpr[1])\n",
    "plt.xlim([0.0, 1.0])\n",
    "plt.ylim([0.0, 1.05])\n",
    "plt.xlabel('False Positive Rate')\n",
    "plt.ylabel('True Positive Rate')\n",
    "plt.title('Receiver operating characteristic')\n",
    "plt.show()"
   ]
  },
  {
   "cell_type": "code",
   "execution_count": 31,
   "metadata": {},
   "outputs": [
    {
     "name": "stderr",
     "output_type": "stream",
     "text": [
      "/home/kuldeep/anaconda3/lib/python3.6/site-packages/sklearn/linear_model/logistic.py:433: FutureWarning: Default solver will be changed to 'lbfgs' in 0.22. Specify a solver to silence this warning.\n",
      "  FutureWarning)\n"
     ]
    },
    {
     "name": "stdout",
     "output_type": "stream",
     "text": [
      "\u001b[1m\u001b[0mThe best hyperparameters:\n",
      "-------------------------\n",
      "C :  1.5\n",
      "fit_intercept :  True\n",
      "penalty :  l1\n",
      "\u001b[1m\u001b[94mBest 10-folds CV f1-score: 77.20%.\n"
     ]
    }
   ],
   "source": [
    "# Build logistic model classifier\n",
    "pip_logmod = make_pipeline(StandardScaler(),\n",
    "                           LogisticRegression(class_weight=\"balanced\"))\n",
    "\n",
    "hyperparam_range = np.arange(0.5, 20.1, 0.5)\n",
    "\n",
    "hyperparam_grid = {\"logisticregression__penalty\": [\"l1\", \"l2\"],\n",
    "                   \"logisticregression__C\":  hyperparam_range,\n",
    "                   \"logisticregression__fit_intercept\": [True, False]\n",
    "                  }\n",
    "\n",
    "clf = GridSearchCV(pip_logmod,\n",
    "                           hyperparam_grid,\n",
    "                           scoring=\"accuracy\",\n",
    "                           cv=2,\n",
    "                           n_jobs=-1)\n",
    "\n",
    "clf.fit(x_train, y_train)\n",
    "\n",
    "print(\"\\033[1m\" + \"\\033[0m\" + \"The best hyperparameters:\")\n",
    "print(\"-\" * 25)\n",
    "for hyperparam in clf.best_params_.keys():\n",
    "    print(hyperparam[hyperparam.find(\"__\") + 2:], \": \", clf.best_params_[hyperparam])\n",
    "\n",
    "print(\"\\033[1m\" + \"\\033[94m\" + \"Best 10-folds CV f1-score: {:.2f}%.\".format((clf.best_score_) * 100))"
   ]
  },
  {
   "cell_type": "code",
   "execution_count": 32,
   "metadata": {},
   "outputs": [
    {
     "data": {
      "text/plain": [
       "<matplotlib.axes._subplots.AxesSubplot at 0x7f6e51ac1ac8>"
      ]
     },
     "execution_count": 32,
     "metadata": {},
     "output_type": "execute_result"
    },
    {
     "data": {
      "image/png": "[encoded data removed]",
      "text/plain": [
       "<Figure size 432x288 with 2 Axes>"
      ]
     },
     "metadata": {},
     "output_type": "display_data"
    }
   ],
   "source": [
    "prediction = clf.predict(x_test)\n",
    "cm = confusion_matrix(y_test, prediction)\n",
    "sns.heatmap(cm, annot=True,fmt='g')"
   ]
  },
  {
   "cell_type": "code",
   "execution_count": 33,
   "metadata": {},
   "outputs": [
    {
     "name": "stdout",
     "output_type": "stream",
     "text": [
      "Accuracy_Socre:  0.7633333333333333\n",
      "F1 Score:  0.6128680479825518\n",
      "Precision_Socre 0.5017857142857143\n",
      "Recall_Score 0.7871148459383753\n"
     ]
    }
   ],
   "source": [
    "print('Accuracy_Socre: ',accuracy_score(y_test, prediction))\n",
    "print('F1 Score: ',f1_score(y_test, prediction))\n",
    "print('Precision_Socre',precision_score(y_test, prediction))\n",
    "print('Recall_Score',recall_score(y_test, prediction))"
   ]
  },
  {
   "cell_type": "code",
   "execution_count": 34,
   "metadata": {},
   "outputs": [
    {
     "name": "stdout",
     "output_type": "stream",
     "text": [
      "0.7715101788746994\n"
     ]
    },
    {
     "data": {
      "image/png": "[encoded data removed]",
      "text/plain": [
       "<Figure size 432x288 with 1 Axes>"
      ]
     },
     "metadata": {},
     "output_type": "display_data"
    }
   ],
   "source": [
    "import matplotlib.pyplot as plt\n",
    "from sklearn.metrics import roc_curve, auc\n",
    "fpr = dict()\n",
    "tpr = dict()\n",
    "roc_auc = dict()\n",
    "for i in range(2):\n",
    "    fpr[i], tpr[i], _ = roc_curve(y_test, prediction)\n",
    "    roc_auc[i] = auc(fpr[i], tpr[i])\n",
    "\n",
    "print (roc_auc_score(y_test, prediction))\n",
    "plt.figure()\n",
    "plt.plot(fpr[1], tpr[1])\n",
    "plt.xlim([0.0, 1.0])\n",
    "plt.ylim([0.0, 1.05])\n",
    "plt.xlabel('False Positive Rate')\n",
    "plt.ylabel('True Positive Rate')\n",
    "plt.title('Receiver operating characteristic')\n",
    "plt.show()"
   ]
  },
  {
   "cell_type": "code",
   "execution_count": 37,
   "metadata": {},
   "outputs": [
    {
     "name": "stdout",
     "output_type": "stream",
     "text": [
      "\u001b[1m\u001b[94mThe 10-folds CV f1-score is: 96.46%\n"
     ]
    }
   ],
   "source": [
    "# Build SVM classifier\n",
    "clf = make_pipeline(StandardScaler(),\n",
    "                        SVC(C=0.01,\n",
    "                            gamma=0.1,\n",
    "                            kernel=\"poly\",\n",
    "                            degree=5,\n",
    "                            coef0=10,\n",
    "                            probability=True))\n",
    "\n",
    "clf.fit(x_train, y_train)\n",
    "\n",
    "svc_cv_scores = cross_val_score(clf, X=x_train, y=y_train, scoring=\"f1\", cv=10, n_jobs=-1)\n",
    "\n",
    "# Print CV\n",
    "print(\"\\033[1m\" + \"\\033[94m\" + \"The 10-folds CV f1-score is: {:.2f}%\".format(\n",
    "       np.mean(svc_cv_scores) * 100))"
   ]
  },
  {
   "cell_type": "code",
   "execution_count": 38,
   "metadata": {},
   "outputs": [
    {
     "data": {
      "text/plain": [
       "<matplotlib.axes._subplots.AxesSubplot at 0x7f6e519cc9e8>"
      ]
     },
     "execution_count": 38,
     "metadata": {},
     "output_type": "execute_result"
    },
    {
     "data": {
      "image/png": "[encoded data removed]",
      "text/plain": [
       "<Figure size 432x288 with 2 Axes>"
      ]
     },
     "metadata": {},
     "output_type": "display_data"
    }
   ],
   "source": [
    "prediction = clf.predict(x_test)\n",
    "cm = confusion_matrix(y_test, prediction)\n",
    "sns.heatmap(cm, annot=True,fmt='g')"
   ]
  },
  {
   "cell_type": "code",
   "execution_count": 39,
   "metadata": {},
   "outputs": [
    {
     "name": "stdout",
     "output_type": "stream",
     "text": [
      "Accuracy_Socre:  0.9613333333333334\n",
      "F1 Score:  0.9213025780189958\n",
      "Precision_Socre 0.8934210526315789\n",
      "Recall_Score 0.9509803921568627\n"
     ]
    }
   ],
   "source": [
    "print('Accuracy_Socre: ',accuracy_score(y_test, prediction))\n",
    "print('F1 Score: ',f1_score(y_test, prediction))\n",
    "print('Precision_Socre',precision_score(y_test, prediction))\n",
    "print('Recall_Score',recall_score(y_test, prediction))"
   ]
  },
  {
   "cell_type": "code",
   "execution_count": 40,
   "metadata": {},
   "outputs": [
    {
     "name": "stdout",
     "output_type": "stream",
     "text": [
      "0.9577736606453605\n"
     ]
    },
    {
     "data": {
      "image/png": "[encoded data removed]",
      "text/plain": [
       "<Figure size 432x288 with 1 Axes>"
      ]
     },
     "metadata": {},
     "output_type": "display_data"
    }
   ],
   "source": [
    "import matplotlib.pyplot as plt\n",
    "from sklearn.metrics import roc_curve, auc\n",
    "fpr = dict()\n",
    "tpr = dict()\n",
    "roc_auc = dict()\n",
    "for i in range(2):\n",
    "    fpr[i], tpr[i], _ = roc_curve(y_test, prediction)\n",
    "    roc_auc[i] = auc(fpr[i], tpr[i])\n",
    "\n",
    "print (roc_auc_score(y_test, prediction))\n",
    "plt.figure()\n",
    "plt.plot(fpr[1], tpr[1])\n",
    "plt.xlim([0.0, 1.0])\n",
    "plt.ylim([0.0, 1.05])\n",
    "plt.xlabel('False Positive Rate')\n",
    "plt.ylabel('True Positive Rate')\n",
    "plt.title('Receiver operating characteristic')\n",
    "plt.show()"
   ]
  },
  {
   "cell_type": "code",
   "execution_count": null,
   "metadata": {},
   "outputs": [],
   "source": []
  }
 ],
 "metadata": {
  "kernelspec": {
   "display_name": "Python 3",
   "language": "python",
   "name": "python3"
  },
  "language_info": {
   "codemirror_mode": {
    "name": "ipython",
    "version": 3
   },
   "file_extension": ".py",
   "mimetype": "text/x-python",
   "name": "python",
   "nbconvert_exporter": "python",
   "pygments_lexer": "ipython3",
   "version": "3.6.6"
  }
 },
 "nbformat": 4,
 "nbformat_minor": 2
}
